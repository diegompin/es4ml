{
 "cells": [
  {
   "cell_type": "code",
   "execution_count": 37,
   "metadata": {},
   "outputs": [
    {
     "name": "stdout",
     "output_type": "stream",
     "text": [
      "The autoreload extension is already loaded. To reload it, use:\n",
      "  %reload_ext autoreload\n"
     ]
    }
   ],
   "source": [
    "%load_ext autoreload\n",
    "%autoreload 2"
   ]
  },
  {
   "cell_type": "code",
   "execution_count": 38,
   "metadata": {},
   "outputs": [],
   "source": [
    "import os\n",
    "import sys\n",
    "sys.path.append(\"../..\")\n",
    "sys.path.append(\"../../..\")"
   ]
  },
  {
   "cell_type": "code",
   "execution_count": 39,
   "metadata": {},
   "outputs": [],
   "source": [
    "import pandas as pd\n",
    "import numpy as np\n",
    "import matplotlib.pyplot as plt\n",
    "import networkx as nx\n",
    "import csv"
   ]
  },
  {
   "cell_type": "code",
   "execution_count": 40,
   "metadata": {},
   "outputs": [],
   "source": [
    "# Generate the .csv for the metrics (for typologies Id and Ie)"
   ]
  },
  {
   "cell_type": "code",
   "execution_count": 41,
   "metadata": {},
   "outputs": [],
   "source": [
    "paths = {\n",
    "    'I-d': 'new-data_I-d_high_5_2_all/network_graph_phi.graphml',\n",
    "    'I-e': 'new-data_I-e_high_5_2_all/network_graph_phi.graphml',\n",
    "    'IV-n': 'new-data_IV-n_high_5_2_all/network_graph_phi.graphml'\n",
    "}\n",
    "\n",
    "node_data = {}"
   ]
  },
  {
   "cell_type": "code",
   "execution_count": 42,
   "metadata": {},
   "outputs": [],
   "source": [
    "def load_graph_data(path, prefix):\n",
    "    G = nx.read_graphml(path)\n",
    "    for node, data in G.nodes(data=True):\n",
    "        if node not in node_data:\n",
    "            node_data[node] = {'label': data.get('label', '')}\n",
    "        # Adiciona cada atributo com prefixo para distinguir\n",
    "        for attr, value in data.items():\n",
    "            if attr not in ['label']:  # Ignora o label para evitar duplicatas\n",
    "                node_data[node][f\"{prefix}_{attr}\"] = value\n",
    "\n",
    "\n",
    "for prefix, path in paths.items():\n",
    "    load_graph_data(path, prefix)\n",
    "\n",
    "df = pd.DataFrame.from_dict(node_data, orient='index')\n",
    "df.to_csv('combined_graph_data.csv', index_label='node_id')\n"
   ]
  },
  {
   "cell_type": "code",
   "execution_count": 30,
   "metadata": {},
   "outputs": [
    {
     "name": "stdout",
     "output_type": "stream",
     "text": [
      "I-d_betweenness_node | Positive Lower bound: -0.008, Upper bound: 0.012\n",
      "I-d_betweenness_node | Zero Lower bound: -0.004, Upper bound: 0.004\n",
      "I-d_degree_node | Positive Lower bound: -26.830, Upper bound: 50.544\n",
      "I-d_degree_node | Zero Lower bound: -10.066, Upper bound: 12.637\n"
     ]
    }
   ],
   "source": [
    "import os\n",
    "import pandas as pd\n",
    "import numpy as np\n",
    "import scipy.stats as st\n",
    "import matplotlib.pyplot as plt\n",
    "\n",
    "class NetworkStatisticalAnalysis:\n",
    "    def __init__(self, network_metric_path, attributes, alpha=0.05):\n",
    "        self.alpha = alpha\n",
    "        self._z_i = st.norm.ppf(1 - alpha / 2)\n",
    "        self.attributes = attributes\n",
    "        self.metric_names = {\"I-d_betweenness_node\": \"betweenness\", \"I-d_degree_node\": \"degree\"}\n",
    "        self._data = pd.read_csv(network_metric_path)\n",
    "        self.get_data_coefficients()\n",
    "\n",
    "        # Filtrando dados\n",
    "        self.filtered_data_positive = self._data[(self._data['I-d_quantity_i-d'] > 0) | (self._data['I-e_quantity_i-e'] > 0)]\n",
    "        self.filtered_data_zero = self._data[(self._data['I-d_quantity_i-d'] == 0) & (self._data['I-e_quantity_i-e'] == 0)]\n",
    "\n",
    "    def get_data_coefficients(self):\n",
    "        # Coleta todos os coeficientes com base nas colunas especificadas\n",
    "        self.data_coefficients = []\n",
    "        for attr in self.attributes:\n",
    "            coefficients = self._data[attr].to_numpy()\n",
    "            self.data_coefficients.append(coefficients)\n",
    "\n",
    "    def calculate_lower_bound(self, coefficients):\n",
    "        return coefficients.mean() - self._z_i * coefficients.std()\n",
    "\n",
    "    def calculate_upper_bound(self, coefficients):\n",
    "        return coefficients.mean() + self._z_i * coefficients.std()\n",
    "\n",
    "    def plot_confidence_interval_for_metric(self, metric, plt_title=''):\n",
    "        os.makedirs('statistical_outputs', exist_ok=True)\n",
    "        metric_name = self.metric_names.get(metric, metric)\n",
    "        plt.figure(figsize=(8, 5))\n",
    "\n",
    "        # Dados com quantity_i-d > 0 ou quantity_i-e > 0\n",
    "        coeff_positive = self.filtered_data_positive[metric].to_numpy()\n",
    "        if len(coeff_positive) > 0:\n",
    "            lower_bound_pos = self.calculate_lower_bound(coeff_positive)\n",
    "            upper_bound_pos = self.calculate_upper_bound(coeff_positive)\n",
    "\n",
    "            plt.plot([1, 1], [lower_bound_pos, upper_bound_pos], label=\"Accounts with at least one typology\", color='blue')\n",
    "            plt.hlines(lower_bound_pos, 0.9, 1.1, color='blue', linestyle='--')\n",
    "            plt.hlines(upper_bound_pos, 0.9, 1.1, color='blue', linestyle='--')\n",
    "            plt.text(1, lower_bound_pos, f'{lower_bound_pos:.3f}', color='blue', ha='center', va='top')\n",
    "            plt.text(1, upper_bound_pos, f'{upper_bound_pos:.3f}', color='blue', ha='center', va='bottom')\n",
    "\n",
    "        # Dados com quantity_i-d == 0 e quantity_i-e == 0\n",
    "        coeff_zero = self.filtered_data_zero[metric].to_numpy()\n",
    "        if len(coeff_zero) > 0:\n",
    "            lower_bound_zero = self.calculate_lower_bound(coeff_zero)\n",
    "            upper_bound_zero = self.calculate_upper_bound(coeff_zero)\n",
    "\n",
    "            plt.plot([1.2, 1.2], [lower_bound_zero, upper_bound_zero], label=\"Accounts with no typology\", color='red')\n",
    "            plt.hlines(lower_bound_zero, 1.1, 1.3, color='red', linestyle='--')\n",
    "            plt.hlines(upper_bound_zero, 1.1, 1.3, color='red', linestyle='--')\n",
    "            plt.text(1.2, lower_bound_zero, f'{lower_bound_zero:.3f}', color='red', ha='center', va='top')\n",
    "            plt.text(1.2, upper_bound_zero, f'{upper_bound_zero:.3f}', color='red', ha='center', va='bottom')\n",
    "\n",
    "        print(f'{metric} | Positive Lower bound: {lower_bound_pos:.3f}, Upper bound: {upper_bound_pos:.3f}')\n",
    "        print(f'{metric} | Zero Lower bound: {lower_bound_zero:.3f}, Upper bound: {upper_bound_zero:.3f}')\n",
    "\n",
    "\n",
    "        plt.xticks([])\n",
    "\n",
    "        plt.xlabel(\"\")\n",
    "        plt.ylabel(\"Attribute Value\")\n",
    "        plt.title(f'{metric_name}')\n",
    "\n",
    "        plt.legend()\n",
    "\n",
    "        plt.savefig(f'statistical_outputs/{metric}_confidence_interval.png')\n",
    "        plt.close()\n",
    "\n",
    "    def plot_all_metrics(self):\n",
    "        for metric in self.attributes:\n",
    "            self.plot_confidence_interval_for_metric(metric, plt_title=f\" - {metric}\")\n",
    "\n",
    "if __name__ == '__main__':\n",
    "    metrics = [\n",
    "        \"I-d_betweenness_node\", \n",
    "        \"I-d_degree_node\",\n",
    "    ]\n",
    "    network_analysis = NetworkStatisticalAnalysis(network_metric_path='./combined_graph_data.csv', attributes=metrics)\n",
    "    network_analysis.plot_all_metrics()\n"
   ]
  },
  {
   "cell_type": "code",
   "execution_count": null,
   "metadata": {},
   "outputs": [],
   "source": []
  }
 ],
 "metadata": {
  "kernelspec": {
   "display_name": "Python 3",
   "language": "python",
   "name": "python3"
  },
  "language_info": {
   "codemirror_mode": {
    "name": "ipython",
    "version": 3
   },
   "file_extension": ".py",
   "mimetype": "text/x-python",
   "name": "python",
   "nbconvert_exporter": "python",
   "pygments_lexer": "ipython3",
   "version": "3.8.10"
  }
 },
 "nbformat": 4,
 "nbformat_minor": 2
}
